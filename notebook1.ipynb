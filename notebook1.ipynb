{
 "cells": [
  {
   "cell_type": "code",
   "execution_count": null,
   "metadata": {},
   "outputs": [],
   "source": [
    "%pip install -r requirements.txt"
   ]
  },
  {
   "cell_type": "markdown",
   "metadata": {},
   "source": [
    "## Dictionary Attack Example"
   ]
  },
  {
   "cell_type": "markdown",
   "metadata": {},
   "source": [
    "The dictionary attack uses a pre-compiled list or wordlist of commonly used passwords and matches them with the targeted password \n",
    "\n",
    "reference: \n",
    "\n",
    "Alkhwaja, I., Albugami, M., Alkhwaja, A., Alghamdi, M.,\n",
    "Abahussain, H., Alfawaz, F., Almurayh, A., and Min-Allah,\n",
    "N. (2023). Password cracking with brute force algorithm\n",
    "and dictionary attack using parallel programming. Applied\n",
    "Sciences, 13(10)"
   ]
  },
  {
   "cell_type": "code",
   "execution_count": null,
   "metadata": {},
   "outputs": [],
   "source": [
    "# PikePdf is a Python library allowing creation, manipulation and repair of PDFs\n",
    "# We will use PikePDf to create a password protected pdf which we will later crack the password into\n",
    "import pikepdf\n",
    "import time\n",
    "\n",
    "# Colorama produces colored terminal text\n",
    "from colorama import Fore"
   ]
  },
  {
   "cell_type": "code",
   "execution_count": null,
   "metadata": {},
   "outputs": [],
   "source": [
    "# The password dictionary we will be working with\n",
    "# unzip rockyou zip file and open it here\n",
    "\n",
    "'''Back in 2009, a company named RockYou was hacked. This wouldn't have been too much of a problem if they\n",
    " hadn't stored all of their passwords unencrypted, in plain text for an attacker to see. \n",
    " They downloaded a list of all the passwords and made it publically available. \n",
    " This file is commonly used for brute force or dictionary attacks on web applications.'''\n",
    "\n",
    "# zipFile is python library for unzipping files\n",
    "# rockyou.txt is stored in a zip file due to its large size\n",
    "from zipfile import ZipFile \n",
    "\n",
    "# unzipping rockyou.zip\n",
    "with ZipFile('rockyou.zip', 'r') as zObj:\n",
    "    zObj.extract('rockyou.txt')\n",
    "    zObj.close()\n",
    "\n",
    "# Opening rockyou password dictionary\n",
    "passwordDict = open('rockyou.txt','r')"
   ]
  },
  {
   "cell_type": "code",
   "execution_count": null,
   "metadata": {},
   "outputs": [],
   "source": [
    "# Encrypting our sample pdf with a password using pikepdf python module\n",
    "pdf = pikepdf.Pdf.open('sample.pdf') \n",
    "\n",
    "# name of the protected pdf with password\n",
    "protected = 'protected.pdf'"
   ]
  },
  {
   "cell_type": "code",
   "execution_count": null,
   "metadata": {},
   "outputs": [],
   "source": [
    "# Adding password protection to the pdf\n",
    "passKey = 'password123'\n",
    "\n",
    "# you can change the R from 4 to 6 for 256 aes encryption\n",
    "pdf.save(protected, encryption=pikepdf.Encryption(owner = passKey,user=passKey,R=4))\n",
    "\n",
    "pdf.close()\n"
   ]
  },
  {
   "cell_type": "code",
   "execution_count": null,
   "metadata": {},
   "outputs": [],
   "source": []
  },
  {
   "cell_type": "code",
   "execution_count": null,
   "metadata": {},
   "outputs": [],
   "source": [
    "# Iterating through our password dictionary to crack the password\n",
    "\n",
    "# Timing how long it takes\n",
    "t0 = time.time()\n",
    "for guess in passwordDict:\n",
    "    try:\n",
    "        pikepdf.open(protected,password = guess.strip())\n",
    "        t1 = time.time()\n",
    "\n",
    "        print(Fore.GREEN + 'Password Found: ' + guess )\n",
    "        print('It took: ' + str(t1 - t0) + ' seconds')\n",
    "        correct = guess\n",
    "        break\n",
    "\n",
    "    except:\n",
    "        print(Fore.RED + 'Trying Passwords: '+ guess.strip())\n",
    "        continue"
   ]
  },
  {
   "cell_type": "code",
   "execution_count": null,
   "metadata": {},
   "outputs": [],
   "source": [
    "# Opening the protected pdf with the now cracked password\n",
    "cracked = pikepdf.open(protected,password = guess.strip())\n",
    "\n",
    "# Getting the first page of the cracked pdf\n",
    "page1 = cracked.pages[0]"
   ]
  },
  {
   "cell_type": "code",
   "execution_count": null,
   "metadata": {},
   "outputs": [],
   "source": [
    "# finding the image key of the image on the first page of the pdf\n",
    "imageKey = list(page1.images.keys())\n",
    "imageKey"
   ]
  },
  {
   "cell_type": "code",
   "execution_count": null,
   "metadata": {},
   "outputs": [],
   "source": [
    "# The raw image of the pdf\n",
    "rawimage = page1.images[imageKey[0]]"
   ]
  },
  {
   "cell_type": "code",
   "execution_count": null,
   "metadata": {},
   "outputs": [],
   "source": [
    "# Extracting the image from the protected pdf\n",
    "pdfimage = pikepdf.PdfImage(rawimage)\n",
    "pdfimage.extract_to(fileprefix='image')\n",
    "pdfimage"
   ]
  },
  {
   "cell_type": "markdown",
   "metadata": {},
   "source": [
    "## Predicting Password Strength with Machine Learning"
   ]
  },
  {
   "cell_type": "markdown",
   "metadata": {},
   "source": [
    "It is important to evaluate your password strength in order to protect against unwanted access to personal and sensitive information"
   ]
  },
  {
   "cell_type": "code",
   "execution_count": null,
   "metadata": {},
   "outputs": [],
   "source": [
    "import pandas as pd\n",
    "import numpy as np\n",
    "import matplotlib.pyplot as plt\n",
    "import seaborn as sns"
   ]
  },
  {
   "cell_type": "code",
   "execution_count": null,
   "metadata": {},
   "outputs": [],
   "source": [
    "from sklearn.feature_extraction.text import TfidfVectorizer\n",
    "from sklearn.model_selection import train_test_split\n",
    "from sklearn.linear_model import LogisticRegression\n",
    "\n",
    "from sklearn.metrics import confusion_matrix\n",
    "\n"
   ]
  },
  {
   "cell_type": "code",
   "execution_count": null,
   "metadata": {},
   "outputs": [],
   "source": [
    "# Converts sequences of text to smaller Parts (tokens)\n",
    "def getTokens(inputStr):\n",
    "    tokens = []\n",
    "    for token in inputStr:\n",
    "        tokens.append(token)\n",
    "    return tokens"
   ]
  },
  {
   "cell_type": "code",
   "execution_count": null,
   "metadata": {},
   "outputs": [],
   "source": [
    "# Password Strength Classifier Dataset\n",
    "# Contains Password and Score from 0-2 \n",
    "'''\n",
    "https://www.kaggle.com/datasets/bhavikbb/password-strength-classifier-dataset?resource=download\n",
    "'''\n",
    "data = pd.read_csv('data.csv',usecols=['password','strength'])\n",
    "data = pd.DataFrame(data)\n",
    "\n",
    "# cleaning data from NA values and non-numeric scores\n",
    "data.fillna(' ',inplace=True)\n",
    "data = data[pd.to_numeric(data['strength'], errors='coerce').notnull()]\n"
   ]
  },
  {
   "cell_type": "code",
   "execution_count": null,
   "metadata": {},
   "outputs": [],
   "source": [
    "# Passwords and Labels (Scores)\n",
    "passwords = np.array(data)\n",
    "passKeys = [key[0] for key in passwords]\n",
    "labels = [int(lab[1]) for lab in passwords]"
   ]
  },
  {
   "cell_type": "code",
   "execution_count": null,
   "metadata": {},
   "outputs": [],
   "source": [
    "# Vectorizing data\n",
    "vectorizer = TfidfVectorizer(tokenizer=getTokens)\n",
    "X = vectorizer.fit_transform(passKeys)"
   ]
  },
  {
   "cell_type": "code",
   "execution_count": null,
   "metadata": {},
   "outputs": [],
   "source": [
    "# Train Test Split\n",
    "# Training on 80% of the dataset and testing on the remaining 20%\n",
    "X_train, X_test, y_train, y_test = train_test_split(X,labels, test_size=0.20, random_state=42)"
   ]
  },
  {
   "cell_type": "code",
   "execution_count": null,
   "metadata": {},
   "outputs": [],
   "source": [
    "# Logistic Regression classifier\n",
    "# Logistic regression is easier to implement, interpret and very efficient to train\n",
    "# By default, logistic regression cannot be used for classification tasks that have more than two labels\n",
    "# For each label we build a logistic regression to find the probability the observation belongs to that label\n",
    "\n",
    "# penalty='12': adds a L2 penalty term and it is the default choice\n",
    "# L2 penalty function uses the sum of the squares of the parameters and Ridge Regression encourages this sum to be small.\n",
    "# multiclass='ovr': binary problem is fit for each label (score)\n",
    "logReg = LogisticRegression(penalty='l2', multi_class='ovr')\n",
    "\n",
    "# Fitting the Logistic Regression Classifier\n",
    "logReg.fit(X_train,y_train)"
   ]
  },
  {
   "cell_type": "code",
   "execution_count": null,
   "metadata": {},
   "outputs": [],
   "source": [
    "# Prediction\n",
    "logReg_pred = logReg.predict(X_test)"
   ]
  },
  {
   "cell_type": "code",
   "execution_count": null,
   "metadata": {},
   "outputs": [],
   "source": [
    "# Accuracy\n",
    "print('Test Accuracy: {}'.format(round(logReg.score(X_test, y_test)*100,3)))"
   ]
  },
  {
   "cell_type": "code",
   "execution_count": null,
   "metadata": {},
   "outputs": [],
   "source": [
    "# Confusion Matrix\n",
    "cm = confusion_matrix(y_test, logReg_pred)\n",
    "\n",
    "# Creating visual of confusion matrix\n",
    "sns.heatmap(cm,annot=True,fmt='.0f',cmap='Blues')\n",
    "plt.title('Confusion Matrix for Predicted Score Vs Actual Score')\n",
    "plt.xlabel('Predicted Score')\n",
    "plt.ylabel('Actual Score')\n",
    "plt.savefig('cm.png')\n",
    "plt.show()\n",
    "\n",
    "\n"
   ]
  },
  {
   "cell_type": "code",
   "execution_count": null,
   "metadata": {},
   "outputs": [],
   "source": [
    "# Custom Testing\n",
    "X_pred = ['jlutz2477', 'Arsenal@45', 'BobaFett2016']\n",
    "X_pred = vectorizer.transform(X_pred)\n",
    "y_pred = logReg.predict(X_pred)\n",
    "print(y_pred)"
   ]
  },
  {
   "cell_type": "code",
   "execution_count": null,
   "metadata": {},
   "outputs": [],
   "source": []
  },
  {
   "cell_type": "code",
   "execution_count": null,
   "metadata": {},
   "outputs": [],
   "source": []
  }
 ],
 "metadata": {
  "kernelspec": {
   "display_name": "note1",
   "language": "python",
   "name": "python3"
  },
  "language_info": {
   "codemirror_mode": {
    "name": "ipython",
    "version": 3
   },
   "file_extension": ".py",
   "mimetype": "text/x-python",
   "name": "python",
   "nbconvert_exporter": "python",
   "pygments_lexer": "ipython3",
   "version": "3.12.1"
  }
 },
 "nbformat": 4,
 "nbformat_minor": 2
}
